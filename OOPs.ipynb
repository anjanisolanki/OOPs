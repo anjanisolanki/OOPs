{
  "nbformat": 4,
  "nbformat_minor": 0,
  "metadata": {
    "colab": {
      "provenance": []
    },
    "kernelspec": {
      "name": "python3",
      "display_name": "Python 3"
    },
    "language_info": {
      "name": "python"
    }
  },
  "cells": [
    {
      "cell_type": "markdown",
      "source": [
        "# **Python OOPs Questions**"
      ],
      "metadata": {
        "id": "-RWGTx52hGXa"
      }
    },
    {
      "cell_type": "code",
      "execution_count": null,
      "metadata": {
        "id": "_dfc-xbAdXzD"
      },
      "outputs": [],
      "source": [
        "# 1. What is Object-Oriented Programming (OOP)?\n"
      ]
    },
    {
      "cell_type": "code",
      "source": [
        "# 2.What is a class in OOP?\n"
      ],
      "metadata": {
        "id": "vqzAGRGEhp_i"
      },
      "execution_count": null,
      "outputs": []
    },
    {
      "cell_type": "code",
      "source": [
        "# 3. 3H What is an object in OOP?\n"
      ],
      "metadata": {
        "id": "p5IV-DHWhzpH"
      },
      "execution_count": null,
      "outputs": []
    },
    {
      "cell_type": "code",
      "source": [
        "# 4. &H What is the difference between abstraction and encapsulation?\n"
      ],
      "metadata": {
        "id": "c9h7MLXSh3i5"
      },
      "execution_count": null,
      "outputs": []
    },
    {
      "cell_type": "code",
      "source": [
        "# 5. What are dunder methods in Python?"
      ],
      "metadata": {
        "id": "EK2DhZISiCHF"
      },
      "execution_count": null,
      "outputs": []
    },
    {
      "cell_type": "code",
      "source": [
        "# 6. Explain the concept of inheritance in OOP."
      ],
      "metadata": {
        "id": "GM7sMnFwiFun"
      },
      "execution_count": null,
      "outputs": []
    },
    {
      "cell_type": "code",
      "source": [
        "# 7. What is polymorphism in OOP?"
      ],
      "metadata": {
        "id": "oeTbi4vxiRa5"
      },
      "execution_count": null,
      "outputs": []
    },
    {
      "cell_type": "code",
      "source": [
        "# 8. How is encapsulation achieved in Python?"
      ],
      "metadata": {
        "id": "HedTUxtRiY0V"
      },
      "execution_count": null,
      "outputs": []
    },
    {
      "cell_type": "code",
      "source": [
        "# 9. What is a constructor in Python?"
      ],
      "metadata": {
        "id": "OvtCHPK8icUn"
      },
      "execution_count": null,
      "outputs": []
    },
    {
      "cell_type": "code",
      "source": [
        "# 10. What are class and static methods in Python?"
      ],
      "metadata": {
        "id": "QckI-iNZigkf"
      },
      "execution_count": null,
      "outputs": []
    },
    {
      "cell_type": "code",
      "source": [
        "#11. What is method overloading in Python?"
      ],
      "metadata": {
        "id": "f4vHbR0lijPR"
      },
      "execution_count": null,
      "outputs": []
    },
    {
      "cell_type": "code",
      "source": [
        "# 12. What is method overriding in OOP?"
      ],
      "metadata": {
        "id": "9bVzwIXQimAV"
      },
      "execution_count": null,
      "outputs": []
    },
    {
      "cell_type": "code",
      "source": [
        "# 13. What is a property decorator in Python?"
      ],
      "metadata": {
        "id": "F3DoFaw0iovv"
      },
      "execution_count": null,
      "outputs": []
    },
    {
      "cell_type": "code",
      "source": [
        "# 14. Why is polymorphism important in OOP?"
      ],
      "metadata": {
        "id": "8RMN7mwdiruL"
      },
      "execution_count": null,
      "outputs": []
    },
    {
      "cell_type": "code",
      "source": [
        "# 15. What is an abstract class in Python?"
      ],
      "metadata": {
        "id": "5evVWjosiulN"
      },
      "execution_count": null,
      "outputs": []
    },
    {
      "cell_type": "code",
      "source": [
        "#16. What are the advantages of OOP?"
      ],
      "metadata": {
        "id": "9xFkYw9zixju"
      },
      "execution_count": null,
      "outputs": []
    },
    {
      "cell_type": "code",
      "source": [
        "# 17. What is the difference between a class variable and an instance variable?"
      ],
      "metadata": {
        "id": "3MoqUX8yi-co"
      },
      "execution_count": null,
      "outputs": []
    },
    {
      "cell_type": "code",
      "source": [
        "# 18. What is multiple inheritance in Python?"
      ],
      "metadata": {
        "id": "8P3PSP3IjDxu"
      },
      "execution_count": null,
      "outputs": []
    },
    {
      "cell_type": "code",
      "source": [
        "# 19.  Explain the purpose of ‘’__str__’ and ‘__repr__’ ‘ methods in Python?"
      ],
      "metadata": {
        "id": "js5_jPdsjHoR"
      },
      "execution_count": null,
      "outputs": []
    },
    {
      "cell_type": "code",
      "source": [
        "# 20.  What is the significance of the ‘super()’ function in Python?"
      ],
      "metadata": {
        "id": "-DdRyjy5jK8S"
      },
      "execution_count": null,
      "outputs": []
    },
    {
      "cell_type": "code",
      "source": [
        "# 21. What is the significance of the __del__ method in Python?"
      ],
      "metadata": {
        "id": "AF8kYYS0jOtc"
      },
      "execution_count": null,
      "outputs": []
    },
    {
      "cell_type": "code",
      "source": [
        "# 22. What is the difference between @staticmethod and @classmethod in Python?"
      ],
      "metadata": {
        "id": "kKdq1EifjSk9"
      },
      "execution_count": null,
      "outputs": []
    },
    {
      "cell_type": "code",
      "source": [
        "# 23. How does polymorphism work in Python with inheritance?"
      ],
      "metadata": {
        "id": "I94fFhbsjV8m"
      },
      "execution_count": null,
      "outputs": []
    },
    {
      "cell_type": "code",
      "source": [
        "# 24. What is method chaining in Python OOP?"
      ],
      "metadata": {
        "id": "5ZF6vtdpjZjG"
      },
      "execution_count": null,
      "outputs": []
    },
    {
      "cell_type": "code",
      "source": [
        "# 25. What is the purpose of the __call__ method in Python?"
      ],
      "metadata": {
        "id": "qIHuYxvajdyY"
      },
      "execution_count": null,
      "outputs": []
    },
    {
      "cell_type": "markdown",
      "source": [
        "# **Practical Questions**"
      ],
      "metadata": {
        "id": "GQfadzucjgUK"
      }
    },
    {
      "cell_type": "code",
      "source": [
        "# 1. Create a parent class Animal with a method speak() that prints a generic message. Create a child class Dog that overrides the speak() method to print \"Bark!\".\n",
        "\n",
        "\n"
      ],
      "metadata": {
        "id": "0hbDpyrvjlda"
      },
      "execution_count": null,
      "outputs": []
    },
    {
      "cell_type": "code",
      "source": [
        "# 2. Write a program to create an abstract class Shape with a method area(). Derive classes Circle and Rectangle from it and implement the area() method in both.\n",
        "\n",
        "\n"
      ],
      "metadata": {
        "id": "1kruHL4pj3wy"
      },
      "execution_count": null,
      "outputs": []
    },
    {
      "cell_type": "code",
      "source": [
        "# 3. Implement a multi-level inheritance scenario where a class Vehicle has an attribute type. Derive a class Car and further derive a class ElectricCar that adds a battery attribute.\n",
        "\n",
        "\n"
      ],
      "metadata": {
        "id": "CRRtcl1rj-PM"
      },
      "execution_count": null,
      "outputs": []
    },
    {
      "cell_type": "code",
      "source": [
        "# 4. Demonstrate polymorphism by creating a base class Bird with a method fly(). Create two derived classes Sparrow and Penguin that override the fly() method.\n",
        "\n",
        "\n"
      ],
      "metadata": {
        "id": "JB73NmykkC68"
      },
      "execution_count": null,
      "outputs": []
    },
    {
      "cell_type": "code",
      "source": [
        "# 5. Write a program to demonstrate encapsulation by creating a class BankAccount with private attributes balance and methods to deposit, withdraw, and check balance.\n",
        "\n",
        "\n"
      ],
      "metadata": {
        "id": "9ltOqzv2kIDS"
      },
      "execution_count": null,
      "outputs": []
    },
    {
      "cell_type": "code",
      "source": [
        "# 6. Demonstrate runtime polymorphism using a method play() in a base class Instrument. Derive classes Guitar and Piano that implement their own version of play().\n",
        "\n",
        "\n"
      ],
      "metadata": {
        "id": "UzENPQbDkL0U"
      },
      "execution_count": null,
      "outputs": []
    },
    {
      "cell_type": "code",
      "source": [
        "# 7. Create a class MathOperations with a class method add_numbers() to add two numbers and a static method subtract_numbers() to subtract two numbers.\n",
        "\n",
        "\n"
      ],
      "metadata": {
        "id": "3dJbkulTkQ-T"
      },
      "execution_count": null,
      "outputs": []
    },
    {
      "cell_type": "code",
      "source": [
        "# 8. Implement a class Person with a class method to count the total number of persons created.\n",
        "\n",
        "\n"
      ],
      "metadata": {
        "id": "eG-FFS_fkVii"
      },
      "execution_count": null,
      "outputs": []
    },
    {
      "cell_type": "code",
      "source": [
        "# 9. Write a class Fraction with attributes numerator and denominator. Override the str method to display the fraction as \"numerator/denominator\".\n",
        "\n",
        "\n"
      ],
      "metadata": {
        "id": "lt__TncukY0c"
      },
      "execution_count": null,
      "outputs": []
    },
    {
      "cell_type": "code",
      "source": [
        "# 10. Demonstrate operator overloading by creating a class Vector and overriding the add method to add two vectors.\n",
        "\n",
        "\n"
      ],
      "metadata": {
        "id": "LaZ4zaQ8ke6q"
      },
      "execution_count": null,
      "outputs": []
    },
    {
      "cell_type": "code",
      "source": [
        "# 11. Create a class Person with attributes name and age. Add a method greet() that prints \"Hello, my name is {name} and I am {age} years old.\"\n",
        "\n",
        "\n"
      ],
      "metadata": {
        "id": "oO5AFXu_kikk"
      },
      "execution_count": null,
      "outputs": []
    },
    {
      "cell_type": "code",
      "source": [
        "# 12. Implement a class Student with attributes name and grades. Create a method average_grade() to compute the average of the grades.\n",
        "\n",
        "\n"
      ],
      "metadata": {
        "id": "JODOjKiCkmSc"
      },
      "execution_count": null,
      "outputs": []
    },
    {
      "cell_type": "code",
      "source": [
        "# 13. Create a class Rectangle with methods set_dimensions() to set the dimensions and area() to calculate the area.\n",
        "\n",
        "\n"
      ],
      "metadata": {
        "id": "XSYUFubNkpzm"
      },
      "execution_count": null,
      "outputs": []
    },
    {
      "cell_type": "code",
      "source": [
        "# 14. Create a class Employee with a method calculate_salary() that computes the salary based on hours worked and hourly rate. Create a derived class Manager that adds a bonus to the salary."
      ],
      "metadata": {
        "id": "AZVgtGLGksxv"
      },
      "execution_count": null,
      "outputs": []
    },
    {
      "cell_type": "code",
      "source": [
        "# 15. Create a class Product with attributes name, price, and quantity. Implement a method total_price() that calculates the total price of the product.\n",
        "\n",
        "\n"
      ],
      "metadata": {
        "id": "aGcBH_l6kz-k"
      },
      "execution_count": null,
      "outputs": []
    },
    {
      "cell_type": "code",
      "source": [
        "# 16. Create a class Animal with an abstract method sound(). Create two derived classes Cow and Sheep that implement the sound() method.\n",
        "\n",
        "\n"
      ],
      "metadata": {
        "id": "WcZ7BZwrk3wc"
      },
      "execution_count": null,
      "outputs": []
    },
    {
      "cell_type": "code",
      "source": [
        "# 17. Create a class Book with attributes title, author, and year_published. Add a method get_book_info() that returns a formatted string with the book's details.\n",
        "\n",
        "\n"
      ],
      "metadata": {
        "id": "3YV-4YSCk79N"
      },
      "execution_count": null,
      "outputs": []
    },
    {
      "cell_type": "code",
      "source": [
        "# 18. Create a class House with attributes address and price. Create a derived class Mansion that adds an attribute number_of_rooms."
      ],
      "metadata": {
        "id": "x2D48RW_k_RA"
      },
      "execution_count": null,
      "outputs": []
    }
  ]
}